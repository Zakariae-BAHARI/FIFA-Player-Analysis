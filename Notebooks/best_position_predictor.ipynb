{
 "cells": [
  {
   "cell_type": "code",
   "execution_count": 30,
   "metadata": {},
   "outputs": [],
   "source": [
    "import pandas as pd\n",
    "from sklearn.ensemble import RandomForestClassifier\n",
    "from sklearn.model_selection import train_test_split\n",
    "from sklearn.metrics import classification_report, accuracy_score\n",
    "import joblib\n",
    "\n",
    "# Load the cleaned dataset of all players\n",
    "df = pd.read_csv('all_players_cleaned.csv')"
   ]
  },
  {
   "cell_type": "code",
   "execution_count": 31,
   "metadata": {},
   "outputs": [],
   "source": [
    "X = df.select_dtypes(include=['int64', 'float64']).drop(['ID'], axis=1)\n",
    "y = df['BestPosition']\n",
    "\n",
    "X_train, X_test, y_train, y_test = train_test_split(X, y, test_size=0.2, random_state=42)"
   ]
  },
  {
   "cell_type": "code",
   "execution_count": 32,
   "metadata": {},
   "outputs": [
    {
     "name": "stdout",
     "output_type": "stream",
     "text": [
      "Accuracy: 0.72\n",
      "\n",
      "Classification Report:\n",
      "              precision    recall  f1-score   support\n",
      "\n",
      "         CAM       0.60      0.82      0.69       435\n",
      "          CB       0.87      0.96      0.91       711\n",
      "         CDM       0.74      0.76      0.75       313\n",
      "          CF       0.00      0.00      0.00        16\n",
      "          CM       0.65      0.67      0.66       214\n",
      "          GK       1.00      1.00      1.00       391\n",
      "          LB       0.40      0.35      0.38       178\n",
      "          LM       0.19      0.04      0.06       168\n",
      "          LW       0.00      0.00      0.00        48\n",
      "         LWB       0.35      0.16      0.22        68\n",
      "          RB       0.40      0.44      0.42       197\n",
      "          RM       0.49      0.54      0.51       313\n",
      "          RW       0.50      0.05      0.10        55\n",
      "         RWB       0.33      0.13      0.19        77\n",
      "          ST       0.86      0.95      0.90       506\n",
      "\n",
      "    accuracy                           0.72      3690\n",
      "   macro avg       0.49      0.46      0.45      3690\n",
      "weighted avg       0.67      0.72      0.69      3690\n",
      "\n"
     ]
    },
    {
     "name": "stderr",
     "output_type": "stream",
     "text": [
      "c:\\Users\\zakar\\AppData\\Local\\Programs\\Python\\Python312\\Lib\\site-packages\\sklearn\\metrics\\_classification.py:1531: UndefinedMetricWarning: Precision is ill-defined and being set to 0.0 in labels with no predicted samples. Use `zero_division` parameter to control this behavior.\n",
      "  _warn_prf(average, modifier, f\"{metric.capitalize()} is\", len(result))\n",
      "c:\\Users\\zakar\\AppData\\Local\\Programs\\Python\\Python312\\Lib\\site-packages\\sklearn\\metrics\\_classification.py:1531: UndefinedMetricWarning: Precision is ill-defined and being set to 0.0 in labels with no predicted samples. Use `zero_division` parameter to control this behavior.\n",
      "  _warn_prf(average, modifier, f\"{metric.capitalize()} is\", len(result))\n",
      "c:\\Users\\zakar\\AppData\\Local\\Programs\\Python\\Python312\\Lib\\site-packages\\sklearn\\metrics\\_classification.py:1531: UndefinedMetricWarning: Precision is ill-defined and being set to 0.0 in labels with no predicted samples. Use `zero_division` parameter to control this behavior.\n",
      "  _warn_prf(average, modifier, f\"{metric.capitalize()} is\", len(result))\n"
     ]
    }
   ],
   "source": [
    "# model creation and training\n",
    "rf_classifier = RandomForestClassifier(n_estimators=100, random_state=42)\n",
    "rf_classifier.fit(X_train, y_train)\n",
    "\n",
    "y_pred = rf_classifier.predict(X_test)\n",
    "\n",
    "# Evaluation\n",
    "accuracy = accuracy_score(y_test, y_pred)\n",
    "classification_rep = classification_report(y_test, y_pred)\n",
    "\n",
    "print(f\"Accuracy: {accuracy:.2f}\")\n",
    "print(\"\\nClassification Report:\")\n",
    "print(classification_rep)"
   ]
  },
  {
   "cell_type": "code",
   "execution_count": 33,
   "metadata": {},
   "outputs": [
    {
     "data": {
      "text/plain": [
       "['best_position_model.joblib']"
      ]
     },
     "execution_count": 33,
     "metadata": {},
     "output_type": "execute_result"
    }
   ],
   "source": [
    "# Save the trained model\n",
    "joblib.dump(rf_classifier, 'best_position_model.joblib')"
   ]
  },
  {
   "cell_type": "code",
   "execution_count": 34,
   "metadata": {},
   "outputs": [
    {
     "name": "stdout",
     "output_type": "stream",
     "text": [
      "   PlayerID PredictedBestPosition\n",
      "0    999999                    ST\n"
     ]
    }
   ],
   "source": [
    "# Load the trained model\n",
    "model = joblib.load('best_position_model.joblib')\n",
    "\n",
    "# Define a new player and predict its best postion \n",
    "new_player = {\n",
    "    'ID': 999999,\n",
    "    'Name': 'Zakariae Bahari',\n",
    "    'FullName': 'Zakariae Bahari',\n",
    "    'Age': 21,\n",
    "    'Height': 184,\n",
    "    'Weight': 70,\n",
    "    'PhotoUrl': 'http://example.com/photo.jpg',\n",
    "    'Nationality': 'Moroccan',\n",
    "    'Overall': 80,\n",
    "    'Potential': 85,\n",
    "    'Growth': 5,\n",
    "    'TotalStats': 1500,\n",
    "    'BaseStats': 800,\n",
    "    'Positions': 'CM',\n",
    "    'BestPosition': '',\n",
    "    'Club': 'Sample FC',\n",
    "    'ValueEUR': 30000000,\n",
    "    'WageEUR': 50000,\n",
    "    'ReleaseClause': 70000000,\n",
    "    'ClubPosition': 'CM',\n",
    "    'ContractUntil': 2026,\n",
    "    'ClubNumber': 10,\n",
    "    'ClubJoined': 2022,\n",
    "    'OnLoad': False,\n",
    "    'NationalTeam': 'England',\n",
    "    'PreferredFoot': 'Right',\n",
    "    'IntReputation': 4,\n",
    "    'WeakFoot': 4,\n",
    "    'SkillMoves': 3,\n",
    "    'AttackingWorkRate': 'Medium',\n",
    "    'DefensiveWorkRate': 'High',\n",
    "    'PaceTotal': 85,\n",
    "    'ShootingTotal': 75,\n",
    "    'PassingTotal': 80,\n",
    "    'DribblingTotal': 82,\n",
    "    'DefendingTotal': 60,\n",
    "    'PhysicalityTotal': 75,\n",
    "    'Crossing': 78,\n",
    "    'Finishing': 70,\n",
    "    'HeadingAccuracy': 65,\n",
    "    'ShortPassing': 83,\n",
    "    'Volleys': 68,\n",
    "    'Dribbling': 85,\n",
    "    'Curve': 75,\n",
    "    'FKAccuracy': 70,\n",
    "    'LongPassing': 80,\n",
    "    'BallControl': 84,\n",
    "    'Acceleration': 88,\n",
    "    'SprintSpeed': 82,\n",
    "    'Agility': 85,\n",
    "    'Reactions': 80,\n",
    "    'Balance': 78,\n",
    "    'ShotPower': 75,\n",
    "    'Jumping': 70,\n",
    "    'Stamina': 80,\n",
    "    'Strength': 70,\n",
    "    'LongShots': 72,\n",
    "    'Aggression': 68,\n",
    "    'Interceptions': 60,\n",
    "    'Positioning': 75,\n",
    "    'Vision': 80,\n",
    "    'Penalties': 65,\n",
    "    'Composure': 80,\n",
    "    'Marking': 60,\n",
    "    'StandingTackle': 65,\n",
    "    'SlidingTackle': 60,\n",
    "    'GKDiving': 10,\n",
    "    'GKHandling': 12,\n",
    "    'GKKicking': 14,\n",
    "    'GKPositioning': 15,\n",
    "    'GKReflexes': 18,\n",
    "    'STRating': 0,\n",
    "    'LWRating': 0,\n",
    "    'LFRating': 0,\n",
    "    'CFRating': 0,\n",
    "    'RFRating': 0,\n",
    "    'RWRating': 0,\n",
    "    'CAMRating': 0,\n",
    "    'LMRating': 0,\n",
    "    'CMRating': 0,\n",
    "    'RMRating': 0,\n",
    "    'LWBRating': 0,\n",
    "    'CDMRating': 0,\n",
    "    'RWBRating': 0,\n",
    "    'LBRating': 0,\n",
    "    'CBRating': 0,\n",
    "    'RBRating': 0,\n",
    "    'GKRating': 0\n",
    "}\n",
    "\n",
    "new_player_df = pd.DataFrame([new_player])\n",
    "numeric_features_new = new_player_df.select_dtypes(include=['int64', 'float64']).drop(['ID'], axis=1)\n",
    "predictions_new = model.predict(numeric_features_new)\n",
    "\n",
    "predicted_df = pd.DataFrame({'PlayerID': new_player_df['ID'], 'PredictedBestPosition': predictions_new})\n",
    "print(predicted_df)"
   ]
  }
 ],
 "metadata": {
  "kernelspec": {
   "display_name": "Python 3",
   "language": "python",
   "name": "python3"
  },
  "language_info": {
   "codemirror_mode": {
    "name": "ipython",
    "version": 3
   },
   "file_extension": ".py",
   "mimetype": "text/x-python",
   "name": "python",
   "nbconvert_exporter": "python",
   "pygments_lexer": "ipython3",
   "version": "3.12.4"
  }
 },
 "nbformat": 4,
 "nbformat_minor": 2
}
